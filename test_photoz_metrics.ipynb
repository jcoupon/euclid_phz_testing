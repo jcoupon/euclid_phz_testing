{
 "cells": [
  {
   "cell_type": "markdown",
   "metadata": {},
   "source": [
    "# Preamble"
   ]
  },
  {
   "cell_type": "code",
   "execution_count": 2,
   "metadata": {},
   "outputs": [],
   "source": [
    "# dependencies\n",
    "import numpy as np\n",
    "import os\n",
    "import re\n",
    "\n",
    "import matplotlib.pyplot as plt\n",
    "from matplotlib import rc\n",
    "from astropy.io import fits, ascii\n",
    "\n",
    "# this module\n",
    "import photoz_metrics"
   ]
  },
  {
   "cell_type": "code",
   "execution_count": 3,
   "metadata": {},
   "outputs": [],
   "source": [
    "# options\n",
    "%matplotlib inline\n",
    "\n",
    "# plot aesthetics\n",
    "rc('figure', figsize = (12, 8))\n",
    "rc('font',**{'size': 30, 'family':'serif', 'serif':['Palatino']})\n",
    "# rc('text', usetex=True)\n",
    "\n",
    "# change the paths below\n",
    "DATADIR = os.environ['HOME']+'/data/euclid/varTrans'\n",
    "CURRENTDIR = '.'"
   ]
  }
 ],
 "metadata": {
  "kernelspec": {
   "display_name": "Python 3",
   "language": "python",
   "name": "python3"
  },
  "language_info": {
   "codemirror_mode": {
    "name": "ipython",
    "version": 3
   },
   "file_extension": ".py",
   "mimetype": "text/x-python",
   "name": "python",
   "nbconvert_exporter": "python",
   "pygments_lexer": "ipython3",
   "version": "3.6.5"
  }
 },
 "nbformat": 4,
 "nbformat_minor": 2
}
